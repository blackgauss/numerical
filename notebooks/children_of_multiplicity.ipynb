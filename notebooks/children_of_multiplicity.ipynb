{
  "nbformat": 4,
  "nbformat_minor": 0,
  "metadata": {
    "colab": {
      "provenance": [],
      "collapsed_sections": [
        "PptBH01FJ0zR",
        "YdFJR_wSJyMd",
        "3ym5bWjKCFfh",
        "qj_nOL-JJ9xz"
      ]
    },
    "kernelspec": {
      "name": "python3",
      "display_name": "Python 3"
    },
    "language_info": {
      "name": "python"
    }
  },
  "cells": [
    {
      "cell_type": "markdown",
      "source": [
        "# Uses pocketpartition package"
      ],
      "metadata": {
        "id": "PptBH01FJ0zR"
      }
    },
    {
      "cell_type": "code",
      "execution_count": null,
      "metadata": {
        "colab": {
          "base_uri": "https://localhost:8080/"
        },
        "id": "eZmbESMJ_XP_",
        "outputId": "c0026f56-3276-41cd-fbbe-dd41b7053ea2"
      },
      "outputs": [
        {
          "output_type": "stream",
          "name": "stdout",
          "text": [
            "Collecting git+https://github.com/blackgauss/pocketpartition.git\n",
            "  Cloning https://github.com/blackgauss/pocketpartition.git to /tmp/pip-req-build-d7immfah\n",
            "  Running command git clone --filter=blob:none --quiet https://github.com/blackgauss/pocketpartition.git /tmp/pip-req-build-d7immfah\n",
            "  Resolved https://github.com/blackgauss/pocketpartition.git to commit d7140761aabd5fd41e39e35243de04024a4989b4\n",
            "  Preparing metadata (setup.py) ... \u001b[?25l\u001b[?25hdone\n"
          ]
        }
      ],
      "source": [
        "pip install --upgrade git+https://github.com/blackgauss/pocketpartition.git"
      ]
    },
    {
      "cell_type": "markdown",
      "source": [
        "# Imports\n"
      ],
      "metadata": {
        "id": "YdFJR_wSJyMd"
      }
    },
    {
      "cell_type": "code",
      "source": [
        "import pocketpartition as pp # For numerical semigroup functions\n",
        "from functools import partial # For filter function\n",
        "from collections import deque # For BFS\n",
        "import numpy as np\n",
        "import matplotlib.pyplot as plt\n",
        "from tqdm import tqdm # Progress Bar\n"
      ],
      "metadata": {
        "id": "ojqRHGJl_XvK"
      },
      "execution_count": null,
      "outputs": []
    },
    {
      "cell_type": "markdown",
      "source": [
        "# BFS Implementation\n",
        "\n",
        "We do a breadth first search through the numerical semigroup tree.\n",
        "At each genus we take all the semigroups of multiplicity \"m\" and then compute the number of children. We save this information and then find the average number at each level."
      ],
      "metadata": {
        "id": "3ym5bWjKCFfh"
      }
    },
    {
      "cell_type": "code",
      "source": [
        "def multiplicity_filter(node, m):\n",
        "  if node.multiplicity() == m:\n",
        "    return True\n",
        "  else:\n",
        "    return False\n",
        "\n",
        "def count_children(node):\n",
        "  return len(node.get_children())\n",
        "\n",
        "def bfs_apply_func_at_depth(root, g, func=None, filter_func=None, pbar=None):\n",
        "    \"\"\"\n",
        "    Perform a BFS on a tree, filter nodes at each level, and apply func to the filtered nodes,\n",
        "    storing the results as [depth, [func(node) for each node at depth]] in the data list.\n",
        "\n",
        "    :param root: The starting node of the tree.\n",
        "    :param g: The depth up to which to apply the function.\n",
        "    :param func: A function to apply to each acceptable node at each depth (optional).\n",
        "    :param filter_func: A function to filter nodes before applying func (optional).\n",
        "    :param pbar: A tqdm progress bar object (optional).\n",
        "    :return: A list of [depth, [func(filtered nodes) at each depth]].\n",
        "    \"\"\"\n",
        "    init_genus = len(root.gaps)\n",
        "    if g < 0:\n",
        "        return []\n",
        "\n",
        "    # Initialize the deque with the root node and its depth (0)\n",
        "    queue = deque([(root, 0)])\n",
        "    data = []\n",
        "\n",
        "    while queue:\n",
        "        current_level_size = len(queue)\n",
        "        current_level_nodes = []\n",
        "        current_depth = queue[0][1]  # Get the current depth from the first element\n",
        "\n",
        "        # Process all nodes at the current level\n",
        "        for _ in range(current_level_size):\n",
        "            current_node, depth = queue.popleft()\n",
        "\n",
        "            # Process the node only if depth <= g\n",
        "            if depth <= g:\n",
        "                # Check if the node passes the filter\n",
        "                if filter_func is None or filter_func(current_node):\n",
        "                    current_level_nodes.append(current_node)\n",
        "\n",
        "                # Add the children to the queue if depth < g and they pass the filter\n",
        "                if depth < g:\n",
        "                    for child in current_node.get_children():\n",
        "                        if filter_func is None or filter_func(child):\n",
        "                            queue.append((child, depth + 1))\n",
        "\n",
        "        # Apply the function to the nodes at the current level and store the results\n",
        "        if func is not None:\n",
        "            result = [func(node) for node in current_level_nodes]\n",
        "            data.append([current_depth + init_genus, result])\n",
        "        else:\n",
        "            data.append([current_depth + init_genus, current_level_nodes])\n",
        "\n",
        "        # Update progress bar if provided\n",
        "        if pbar is not None:\n",
        "            pbar.update(1)  # Update the progress bar once per depth level\n",
        "\n",
        "    return data"
      ],
      "metadata": {
        "id": "FrHM_vGU_hVV"
      },
      "execution_count": null,
      "outputs": []
    },
    {
      "cell_type": "markdown",
      "source": [
        "# Execution"
      ],
      "metadata": {
        "id": "qj_nOL-JJ9xz"
      }
    },
    {
      "cell_type": "code",
      "source": [
        "mult = 5\n",
        "max_genus = 100\n",
        "\n",
        "S_root = pp.NumericalSemigroup(gaps=range(1, mult))\n",
        "\n",
        "# Using tqdm outside the function call\n",
        "total_levels = max_genus + 1  # The depth + 1 you want to process\n",
        "with tqdm(total=total_levels, desc=\"Processing levels\") as pbar:\n",
        "    results = bfs_apply_func_at_depth(S_root, max_genus, count_children, partial(multiplicity_filter, m=mult), pbar=pbar)\n",
        "\n",
        "# Compute average number of children\n",
        "avg_children_data = [[item[0], np.mean(item[1])] for item in results]\n"
      ],
      "metadata": {
        "colab": {
          "base_uri": "https://localhost:8080/"
        },
        "id": "M5ZIgMuyJ-v0",
        "outputId": "7ac6f5c7-a9d5-4800-c50c-c147bd252798"
      },
      "execution_count": null,
      "outputs": [
        {
          "metadata": {
            "tags": null
          },
          "name": "stderr",
          "output_type": "stream",
          "text": [
            "Processing levels:  65%|██████▌   | 66/101 [02:15<05:18,  9.10s/it]"
          ]
        }
      ]
    },
    {
      "cell_type": "markdown",
      "source": [
        "# Plot Results"
      ],
      "metadata": {
        "id": "Eok8NFzZJqoA"
      }
    },
    {
      "cell_type": "code",
      "source": [
        "# Extract the depths and average number of children from the results\n",
        "depths, avg_children = zip(*avg_children_data)\n",
        "\n",
        "# Create a scatter plot\n",
        "plt.scatter(depths, avg_children)\n",
        "\n",
        "# Set the axis labels and title\n",
        "plt.xlabel(\"Genus\")\n",
        "plt.ylabel(\"Average Number of Children\")\n",
        "plt.title(f\"Average Number of Children for Semigroups of Multiplicity {mult}\")\n",
        "\n",
        "# Show the plot\n",
        "plt.show()\n"
      ],
      "metadata": {
        "colab": {
          "base_uri": "https://localhost:8080/",
          "height": 472
        },
        "id": "ys5IcnzACyJX",
        "outputId": "9608f81f-bb14-4df8-cbc3-e390ec64c71e"
      },
      "execution_count": null,
      "outputs": [
        {
          "output_type": "display_data",
          "data": {
            "text/plain": [
              "<Figure size 640x480 with 1 Axes>"
            ],
            "image/png": "[encoded data removed]"
          },
          "metadata": {}
        }
      ]
    },
    {
      "cell_type": "code",
      "source": [],
      "metadata": {
        "id": "qJO9ZRecMZiU"
      },
      "execution_count": null,
      "outputs": []
    }
  ]
}